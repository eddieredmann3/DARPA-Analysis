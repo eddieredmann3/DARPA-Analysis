{
 "cells": [
  {
   "cell_type": "code",
   "execution_count": 1,
   "id": "826ce816",
   "metadata": {},
   "outputs": [],
   "source": [
    "import pandas as pd\n",
    "import numpy as np\n",
    "from scipy.stats import zscore\n",
    "from sklearn import preprocessing, tree, metrics\n",
    "from sklearn.model_selection import train_test_split"
   ]
  },
  {
   "cell_type": "code",
   "execution_count": 2,
   "id": "1929de57",
   "metadata": {},
   "outputs": [],
   "source": [
    "darpa_a_df = pd.read_csv(\"Final_Project/DARPA_a.csv\")\n",
    "#darpa_b_df = pd.read_csv(\"Final_Project/DARPA_b.csv\")"
   ]
  },
  {
   "cell_type": "code",
   "execution_count": 9,
   "id": "b8bfa5b1",
   "metadata": {},
   "outputs": [
    {
     "data": {
      "text/plain": [
       "[' flag', 'class']"
      ]
     },
     "execution_count": 9,
     "metadata": {},
     "output_type": "execute_result"
    }
   ],
   "source": [
    "#we're trying to separate out the nominal and numerical values so that we can label encode the nominal and \n",
    "#z-score transform the numerical\n",
    "nominal_values = []\n",
    "numerical_values = []\n",
    "\n",
    "for column in darpa_a_df.columns:\n",
    "    test_value = darpa_a_df[column][0]\n",
    "    try:\n",
    "        test_value += 1 #we're testing to see if the value is an integer\n",
    "        numerical_values.append(column)\n",
    "    except TypeError:\n",
    "        nominal_values.append(column)"
   ]
  },
  {
   "cell_type": "code",
   "execution_count": 10,
   "id": "46302ccd",
   "metadata": {},
   "outputs": [],
   "source": [
    "#label encoding the nominal values\n",
    "label_encoder = preprocessing.LabelEncoder()\n",
    "\n",
    "#Redmann, what the fuck are you doing, creating different nomenclatures for your train and test sets? Are you a fucking moron?\n",
    "for nominal in nominal_values:\n",
    "    darpa_a_df[nominal] = label_encoder.fit_transform(darpa_a_df[nominal])"
   ]
  },
  {
   "cell_type": "code",
   "execution_count": 16,
   "id": "73fd96f9",
   "metadata": {},
   "outputs": [],
   "source": [
    "X = darpa_a_df[darpa_a_df.columns[0:len(darpa_a_df.columns)-2]]\n",
    "y = darpa_a_df[\"class\"]\n",
    "\n",
    "#darpa_a_df"
   ]
  },
  {
   "cell_type": "code",
   "execution_count": 28,
   "id": "ee7203e5",
   "metadata": {},
   "outputs": [],
   "source": [
    "x_train, x_test, y_train, y_test = train_test_split(X, y, test_size=.95)"
   ]
  },
  {
   "cell_type": "code",
   "execution_count": 29,
   "id": "c2ec478d",
   "metadata": {},
   "outputs": [],
   "source": [
    "darpa_a_decision_tree = tree.DecisionTreeClassifier()\n",
    "darpa_a_decision_tree = darpa_a_decision_tree.fit(x_train, y_train)"
   ]
  },
  {
   "cell_type": "code",
   "execution_count": 30,
   "id": "a54b52fa",
   "metadata": {},
   "outputs": [],
   "source": [
    "decision_preds = darpa_a_decision_tree.predict(x_test)"
   ]
  },
  {
   "cell_type": "code",
   "execution_count": 31,
   "id": "87a74527",
   "metadata": {},
   "outputs": [
    {
     "data": {
      "text/plain": [
       "0.9919784769033744"
      ]
     },
     "execution_count": 31,
     "metadata": {},
     "output_type": "execute_result"
    }
   ],
   "source": [
    "metrics.accuracy_score(y_test, decision_preds)"
   ]
  },
  {
   "cell_type": "code",
   "execution_count": 34,
   "id": "2e4ad3f5",
   "metadata": {},
   "outputs": [
    {
     "data": {
      "text/plain": [
       "array([[ 2073,     0,     0,     0,     0,     0,     0,     0,     0,\n",
       "            0,     7,     0,     0,     0,     0,     0,     0,     0,\n",
       "            0,     0,     0],\n",
       "       [    0,     9,     0,     0,     0,     0,     0,     0,     0,\n",
       "            0,    16,     0,     0,     0,     1,     0,     0,     0,\n",
       "            0,     3,     0],\n",
       "       [    0,     0,     0,     0,     0,     0,     0,     0,     0,\n",
       "            0,     6,     0,     0,     0,     0,     0,     0,     0,\n",
       "            0,     2,     0],\n",
       "       [    0,     0,     0,     0,     0,     0,     0,     0,     0,\n",
       "            0,    52,     0,     0,     0,     0,     0,     1,     0,\n",
       "            0,     0,     0],\n",
       "       [    0,     0,     0,     0,     0,     4,     0,     0,     0,\n",
       "            2,     6,     0,     0,     0,     0,     0,     0,     0,\n",
       "            0,     0,     0],\n",
       "       [    0,     0,     0,     0,     0,  1146,     0,     0,     0,\n",
       "            0,    17,     0,     0,     0,    18,     0,     0,     0,\n",
       "            0,     0,     0],\n",
       "       [    0,     0,     0,     0,     0,     0,     0,     0,     0,\n",
       "            0,    16,     0,     0,     0,     0,     0,     2,     0,\n",
       "            0,     3,     0],\n",
       "       [    0,     0,     0,     0,     0,     0,     0,     0,     0,\n",
       "            0,     6,     0,     0,     0,     0,     0,     3,     0,\n",
       "            0,     0,     0],\n",
       "       [    0,     0,     0,     0,     0,     0,     0,     0,     0,\n",
       "            0,     6,     0,     0,     0,     0,     0,     0,     0,\n",
       "            0,     1,     0],\n",
       "       [    0,     0,     0,     0,     0,    28,     0,     0,     0,\n",
       "          164,    25,     0,     0,     0,     0,     0,     3,     0,\n",
       "            0,     0,     0],\n",
       "       [    6,    16,     0,     0,     0,   105,     0,     0,     0,\n",
       "            2, 92187,     0,     0,     4,     3,     0,     9,     0,\n",
       "            0,    84,     0],\n",
       "       [    0,     3,     0,     0,     0,     0,     0,     0,     0,\n",
       "            0,     0,     0,     0,     0,     0,     0,     0,     0,\n",
       "            0,     0,     0],\n",
       "       [    0,     4,     0,     0,     0,     0,     0,     0,     0,\n",
       "            0,     0,     0,     0,     0,     0,     0,     0,     0,\n",
       "            0,     0,     0],\n",
       "       [    0,     0,     0,     0,     0,     0,     0,     0,     0,\n",
       "            0,     0,     0,     0,   226,     0,     0,     0,     0,\n",
       "            0,    22,     0],\n",
       "       [    0,     0,     0,     0,     0,     5,     0,     0,     0,\n",
       "            1,    19,     0,     0,     0,   961,     0,    11,     0,\n",
       "            0,     0,     0],\n",
       "       [    0,     2,     0,     0,     0,     0,     0,     0,     0,\n",
       "            0,     8,     0,     0,     0,     0,     0,     0,     0,\n",
       "            0,     0,     0],\n",
       "       [    0,     0,     0,     0,     0,     0,     0,     0,     0,\n",
       "            0,   111,     0,     0,     0,    24,     0,  1370,     0,\n",
       "            1,     0,     0],\n",
       "       [    0,     0,     0,     0,     0,     0,     0,     0,     0,\n",
       "            0,     2,     0,     0,     0,     0,     0,     0,     0,\n",
       "            0,     0,     0],\n",
       "       [    0,     0,     0,     0,     0,     0,     0,     0,     0,\n",
       "            0,     0,     0,     0,     0,     0,     0,     0,     0,\n",
       "          936,     0,     0],\n",
       "       [   51,     0,     0,     0,     0,     0,     0,     0,     0,\n",
       "            0,    82,     0,     0,     0,     0,     0,     0,     0,\n",
       "            0,   836,     0],\n",
       "       [    0,     0,     0,     0,     0,     0,     0,     0,     0,\n",
       "            0,     5,     0,     0,     0,     0,     0,     0,     0,\n",
       "            0,     0,    13]], dtype=int64)"
      ]
     },
     "execution_count": 34,
     "metadata": {},
     "output_type": "execute_result"
    }
   ],
   "source": [
    "metrics.confusion_matrix(y_test, decision_preds)"
   ]
  },
  {
   "cell_type": "code",
   "execution_count": 32,
   "id": "b37221aa",
   "metadata": {},
   "outputs": [],
   "source": [
    "from sklearn.naive_bayes import GaussianNB\n",
    "\n",
    "naive_bayes = GaussianNB()\n",
    "naive_bayes.fit(x_train , y_train)\n",
    "\n",
    "y_predicted = naive_bayes.predict(x_test)"
   ]
  },
  {
   "cell_type": "code",
   "execution_count": 33,
   "id": "4b1fdfa4",
   "metadata": {},
   "outputs": [
    {
     "data": {
      "text/plain": [
       "0.8994033495815505"
      ]
     },
     "execution_count": 33,
     "metadata": {},
     "output_type": "execute_result"
    }
   ],
   "source": [
    "metrics.accuracy_score(y_predicted, decision_preds)"
   ]
  },
  {
   "cell_type": "code",
   "execution_count": 35,
   "id": "47881708",
   "metadata": {},
   "outputs": [
    {
     "data": {
      "text/plain": [
       "array([[ 2056,     0,     0,     0,     0,     0,     0,     0,     0,\n",
       "            0,     0],\n",
       "       [    0,     1,     0,     0,     0,     0,     0,     0,     0,\n",
       "            0,     0],\n",
       "       [    0,     0,  1126,    72,  3953,     0,     0,     0,     0,\n",
       "            7,     0],\n",
       "       [    0,     0,    63,    19,  1225,     0,    49,    11,     0,\n",
       "            1,     0],\n",
       "       [   19,    33,    92,     2, 83209,     4,    21,    21,     0,\n",
       "           47,     0],\n",
       "       [    0,     0,     0,     0,    24,   226,     0,     0,     0,\n",
       "           17,     0],\n",
       "       [    0,     0,     5,    76,    61,     0,   832,    51,     0,\n",
       "            0,     0],\n",
       "       [    0,     0,     0,     0,    34,     0,    41,  1299,     1,\n",
       "            0,     0],\n",
       "       [    0,     0,     1,     0,    39,     0,     0,    17,   936,\n",
       "            0,     0],\n",
       "       [   55,     0,     1,     0,  4026,     0,    64,     0,     0,\n",
       "          879,     0],\n",
       "       [    0,     0,     0,     0,     0,     0,     0,     0,     0,\n",
       "            0,    13]], dtype=int64)"
      ]
     },
     "execution_count": 35,
     "metadata": {},
     "output_type": "execute_result"
    }
   ],
   "source": [
    "metrics.confusion_matrix(y_predicted, decision_preds)"
   ]
  }
 ],
 "metadata": {
  "kernelspec": {
   "display_name": "Python 3 (ipykernel)",
   "language": "python",
   "name": "python3"
  },
  "language_info": {
   "codemirror_mode": {
    "name": "ipython",
    "version": 3
   },
   "file_extension": ".py",
   "mimetype": "text/x-python",
   "name": "python",
   "nbconvert_exporter": "python",
   "pygments_lexer": "ipython3",
   "version": "3.8.5"
  }
 },
 "nbformat": 4,
 "nbformat_minor": 5
}
